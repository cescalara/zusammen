{
 "cells": [
  {
   "cell_type": "markdown",
   "metadata": {},
   "source": [
    "# Simulating the Golenetskii correlation with popsynth"
   ]
  },
  {
   "cell_type": "code",
   "execution_count": 1,
   "metadata": {
    "ExecuteTime": {
     "end_time": "2020-06-02T09:35:14.539918Z",
     "start_time": "2020-06-02T09:35:11.104486Z"
    }
   },
   "outputs": [
    {
     "name": "stderr",
     "output_type": "stream",
     "text": [
      "/Users/fran/.virtualenvs/grb/lib/python3.7/site-packages/popsynth/distribution.py:8: TqdmExperimentalWarning: Using `tqdm.autonotebook.tqdm` in notebook mode. Use `tqdm.tqdm` instead to force console mode (e.g. in jupyter console)\n",
      "  from tqdm.autonotebook import tqdm as progress_bar\n"
     ]
    }
   ],
   "source": [
    "import numpy as np\n",
    "import matplotlib.pyplot as plt\n",
    "import networkx as nx\n",
    "\n",
    "import popsynth\n",
    "from popsynth.aux_samplers.trunc_normal_aux_sampler import TruncatedNormalAuxSampler\n",
    "from popsynth.aux_samplers.lognormal_aux_sampler import LogNormalAuxSampler"
   ]
  },
  {
   "cell_type": "markdown",
   "metadata": {},
   "source": [
    "## GRB population"
   ]
  },
  {
   "cell_type": "code",
   "execution_count": 2,
   "metadata": {
    "ExecuteTime": {
     "end_time": "2020-06-02T09:35:14.547479Z",
     "start_time": "2020-06-02T09:35:14.542926Z"
    }
   },
   "outputs": [],
   "source": [
    "# redshift distribution\n",
    "r0_true = 1. #1/20.\n",
    "rise_true = 1.\n",
    "decay_true = 4.0\n",
    "peak_true = 1.5\n",
    "r_max = 7.0\n",
    "\n",
    "\n",
    "pop_gen = popsynth.populations.SFRPopulation(\n",
    "    r0=r0_true,\n",
    "    rise=rise_true,\n",
    "    decay=decay_true,\n",
    "    peak=peak_true,\n",
    "    r_max=r_max,\n",
    ")"
   ]
  },
  {
   "cell_type": "markdown",
   "metadata": {},
   "source": [
    "## Auxiliary samplers"
   ]
  },
  {
   "cell_type": "code",
   "execution_count": 3,
   "metadata": {
    "ExecuteTime": {
     "end_time": "2020-06-02T09:35:14.556984Z",
     "start_time": "2020-06-02T09:35:14.550597Z"
    }
   },
   "outputs": [],
   "source": [
    "from aux_samplers import DurationSampler, EpeakObsSampler, LumSampler"
   ]
  },
  {
   "cell_type": "code",
   "execution_count": 4,
   "metadata": {
    "ExecuteTime": {
     "end_time": "2020-06-02T09:35:14.566474Z",
     "start_time": "2020-06-02T09:35:14.559352Z"
    }
   },
   "outputs": [],
   "source": [
    "t90 = LogNormalAuxSampler(name=\"log_t90\", observed=False)\n",
    "t90.mu=10\n",
    "t90.tau=0.25\n",
    "\n",
    "log_ep = LogNormalAuxSampler(name=\"log_ep\", observed=False)\n",
    "log_ep.mu=300\n",
    "log_ep.tau=0.4\n",
    "\n",
    "log_nrest = LogNormalAuxSampler(name=\"log_nrest\", observed=False)\n",
    "log_nrest.mu = 1e52\n",
    "log_nrest.tau = 0.1\n",
    "\n",
    "gamma = TruncatedNormalAuxSampler(name=\"gamma\", observed=False)\n",
    "gamma.mu = 1.5\n",
    "gamma.tau = 0.5\n",
    "gamma.lower = 1.0\n",
    "gamma.upper = 2.0\n",
    "\n",
    "duration = DurationSampler()\n",
    "obs_lum = LumSampler()\n",
    "log_ep_obs = EpeakObsSampler()\n",
    "duration.set_secondary_sampler(t90)\n",
    "obs_lum.set_secondary_sampler(log_ep)\n",
    "obs_lum.set_secondary_sampler(log_nrest)\n",
    "obs_lum.set_secondary_sampler(gamma)\n",
    "log_ep_obs.set_secondary_sampler(log_ep)"
   ]
  },
  {
   "cell_type": "code",
   "execution_count": 5,
   "metadata": {
    "ExecuteTime": {
     "end_time": "2020-06-02T09:35:14.572609Z",
     "start_time": "2020-06-02T09:35:14.568635Z"
    }
   },
   "outputs": [
    {
     "name": "stdout",
     "output_type": "stream",
     "text": [
      "registering auxilary sampler: duration\n",
      "registering derived luminosity sampler: obs_lum\n",
      "registering auxilary sampler: log_ep_obs\n"
     ]
    }
   ],
   "source": [
    "pop_gen.add_observed_quantity(duration)\n",
    "pop_gen.add_observed_quantity(obs_lum)\n",
    "pop_gen.add_observed_quantity(log_ep_obs)"
   ]
  },
  {
   "cell_type": "markdown",
   "metadata": {},
   "source": [
    "## Survey"
   ]
  },
  {
   "cell_type": "code",
   "execution_count": 6,
   "metadata": {
    "ExecuteTime": {
     "end_time": "2020-06-02T09:35:17.016326Z",
     "start_time": "2020-06-02T09:35:14.667041Z"
    }
   },
   "outputs": [
    {
     "name": "stdout",
     "output_type": "stream",
     "text": [
      "The volume integral is 38.111186\n"
     ]
    },
    {
     "data": {
      "application/vnd.jupyter.widget-view+json": {
       "model_id": "b0f117abaabf40a1b7cce75e65fdff2b",
       "version_major": 2,
       "version_minor": 0
      },
      "text/plain": [
       "HBox(children=(FloatProgress(value=0.0, description='Drawing distances', max=32.0, style=ProgressStyle(descrip…"
      ]
     },
     "metadata": {},
     "output_type": "display_data"
    },
    {
     "name": "stdout",
     "output_type": "stream",
     "text": [
      "\n",
      "Expecting 32 total objects\n",
      "Sampling: obs_lum\n",
      "obs_lum is sampling its secondary quantities\n",
      "Sampling: log_ep\n",
      "Sampling: log_nrest\n",
      "Sampling: gamma\n",
      "Getting luminosity from derived sampler\n",
      "Sampling: duration\n",
      "duration is sampling its secondary quantities\n",
      "Sampling: log_t90\n",
      "Sampling: log_ep_obs\n",
      "log_ep_obs is sampling its secondary quantities\n",
      "Applying soft boundary\n"
     ]
    },
    {
     "data": {
      "application/vnd.jupyter.widget-view+json": {
       "model_id": "5401040a6f1b478d864ec60eab1d97c7",
       "version_major": 2,
       "version_minor": 0
      },
      "text/plain": [
       "HBox(children=(FloatProgress(value=0.0, description='samping detection probability', max=32.0, style=ProgressS…"
      ]
     },
     "metadata": {},
     "output_type": "display_data"
    },
    {
     "name": "stdout",
     "output_type": "stream",
     "text": [
      "\n",
      "No Selection! Added back all objects\n",
      "NO HIDDEN OBJECTS\n",
      "Deteced 32 objects or to a distance of 3.08\n"
     ]
    }
   ],
   "source": [
    "population = pop_gen.draw_survey(no_selection=True, boundary=1e-2, flux_sigma=0.)"
   ]
  },
  {
   "cell_type": "code",
   "execution_count": 7,
   "metadata": {
    "ExecuteTime": {
     "end_time": "2020-06-02T09:35:17.987313Z",
     "start_time": "2020-06-02T09:35:17.018769Z"
    }
   },
   "outputs": [
    {
     "data": {
      "text/plain": [
       "Text(0, 0.5, '$L$ (erg/s)')"
      ]
     },
     "execution_count": 7,
     "metadata": {},
     "output_type": "execute_result"
    },
    {
     "data": {
      "image/png": "[encoded data removed]",
      "text/plain": [
       "<Figure size 432x288 with 1 Axes>"
      ]
     },
     "metadata": {
      "needs_background": "light"
     },
     "output_type": "display_data"
    }
   ],
   "source": [
    "fig, ax = plt.subplots()\n",
    "Egrid = 10**np.linspace(1, 4)\n",
    "\n",
    "ax.scatter(10**population.log_ep, population.luminosities)\n",
    "#ax.scatter(10**population.log_ep, population.obs_lum)\n",
    "ax.plot(Egrid, 1e52 * np.power(Egrid/100, 1.5))\n",
    "ax.set_xscale('log')\n",
    "ax.set_yscale('log')\n",
    "ax.set_xlabel('$E_\\mathrm{peak}^\\mathrm{rest}$ (keV)')\n",
    "ax.set_ylabel('$L$ (erg/s)')"
   ]
  },
  {
   "cell_type": "code",
   "execution_count": 9,
   "metadata": {
    "ExecuteTime": {
     "end_time": "2020-06-02T09:35:26.860383Z",
     "start_time": "2020-06-02T09:35:26.112514Z"
    }
   },
   "outputs": [
    {
     "data": {
      "text/plain": [
       "Text(0, 0.5, '$F_E$ (erg $\\\\mathrm{s}^{-1}$ $\\\\mathrm{cm}^{-2}$)')"
      ]
     },
     "execution_count": 9,
     "metadata": {},
     "output_type": "execute_result"
    },
    {
     "data": {
      "image/png": "[encoded data removed]",
      "text/plain": [
       "<Figure size 432x288 with 1 Axes>"
      ]
     },
     "metadata": {
      "needs_background": "light"
     },
     "output_type": "display_data"
    }
   ],
   "source": [
    "fig, ax = plt.subplots()\n",
    "ax.scatter(10**population.log_ep_obs, population.latent_fluxes)\n",
    "ax.set_xscale('log')\n",
    "ax.set_yscale('log')\n",
    "ax.set_xlabel('$E_\\mathrm{peak}^\\mathrm{obs}$ (keV)')\n",
    "ax.set_ylabel('$F_E$ (erg $\\mathrm{s}^{-1}$ $\\mathrm{cm}^{-2}$)')"
   ]
  },
  {
   "cell_type": "code",
   "execution_count": 10,
   "metadata": {
    "ExecuteTime": {
     "end_time": "2020-06-02T09:35:29.275623Z",
     "start_time": "2020-06-02T09:35:28.992575Z"
    }
   },
   "outputs": [
    {
     "data": {
      "image/png": "[encoded data removed]",
      "text/plain": [
       "<Figure size 432x288 with 1 Axes>"
      ]
     },
     "metadata": {},
     "output_type": "display_data"
    }
   ],
   "source": [
    "pos=nx.drawing.nx_agraph.graphviz_layout(pop_gen.graph, prog='dot')\n",
    "\n",
    "nx.draw(pop_gen.graph, with_labels=True,pos=pos)"
   ]
  },
  {
   "cell_type": "code",
   "execution_count": null,
   "metadata": {},
   "outputs": [],
   "source": []
  }
 ],
 "metadata": {
  "kernelspec": {
   "display_name": "grb",
   "language": "python",
   "name": "grb"
  },
  "language_info": {
   "codemirror_mode": {
    "name": "ipython",
    "version": 3
   },
   "file_extension": ".py",
   "mimetype": "text/x-python",
   "name": "python",
   "nbconvert_exporter": "python",
   "pygments_lexer": "ipython3",
   "version": "3.7.6"
  }
 },
 "nbformat": 4,
 "nbformat_minor": 2
}
