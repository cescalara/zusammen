{
 "cells": [
  {
   "cell_type": "code",
   "execution_count": 1,
   "metadata": {
    "ExecuteTime": {
     "end_time": "2020-12-03T17:03:13.213392Z",
     "start_time": "2020-12-03T17:03:13.203810Z"
    }
   },
   "outputs": [
    {
     "name": "stdout",
     "output_type": "stream",
     "text": [
      "env: DISPLAY=:0.0\n",
      "env: OMP_NUM_THREADS=1\n",
      "env: NUMEXPR_MAX_THREADS=16\n",
      "env: MKL_NUM_THREADS=1\n",
      "env: NUMEXPR_NUM_THREADS=1\n"
     ]
    }
   ],
   "source": [
    "%env DISPLAY=:0.0\n",
    "%env OMP_NUM_THREADS=1\n",
    "%env NUMEXPR_MAX_THREADS=16\n",
    "%env MKL_NUM_THREADS=1\n",
    "%env NUMEXPR_NUM_THREADS=1"
   ]
  },
  {
   "cell_type": "code",
   "execution_count": 2,
   "metadata": {
    "ExecuteTime": {
     "end_time": "2020-12-03T17:03:20.569574Z",
     "start_time": "2020-12-03T17:03:13.226224Z"
    }
   },
   "outputs": [
    {
     "name": "stderr",
     "output_type": "stream",
     "text": [
      "/Users/fran/.virtualenvs/grb/lib/python3.8/site-packages/astromodels/functions/function.py:140: YAMLLoadWarning: calling yaml.load() without Loader=... is deprecated, as the default Loader is unsafe. Please read https://msg.pyyaml.org/load for full details.\n",
      "  function_definition = my_yaml.load(dct['__doc__'])\n",
      "/Users/fran/.virtualenvs/grb/lib/python3.8/site-packages/astromodels/core/parameter.py:555: UserWarning: We have set the min_value of xc to 1e-99 because there was a postive transform\n",
      "  warnings.warn('We have set the min_value of %s to 1e-99 because there was a postive transform' % self.path)\n"
     ]
    },
    {
     "name": "stdout",
     "output_type": "stream",
     "text": [
      "Configuration read from /Users/fran/.threeML/threeML_config.yml\n"
     ]
    },
    {
     "name": "stderr",
     "output_type": "stream",
     "text": [
      "\n",
      "WARNING TqdmExperimentalWarning: Using `tqdm.autonotebook.tqdm` in notebook mode. Use `tqdm.tqdm` instead to force console mode (e.g. in jupyter console)\n",
      "\n"
     ]
    }
   ],
   "source": [
    "import sys\n",
    "sys.path.append(\"../zusammen/utils\")\n",
    "from sim2fits import AnalysisBuilder"
   ]
  },
  {
   "cell_type": "code",
   "execution_count": 3,
   "metadata": {
    "ExecuteTime": {
     "end_time": "2020-12-03T17:03:32.126561Z",
     "start_time": "2020-12-03T17:03:20.572067Z"
    }
   },
   "outputs": [
    {
     "name": "stdout",
     "output_type": "stream",
     "text": [
      "SynthGRB_0\n"
     ]
    },
    {
     "name": "stderr",
     "output_type": "stream",
     "text": [
      "WARNING: VerifyWarning: Card is too long, comment will be truncated. [astropy.io.fits.card]\n",
      "2020-12-03 18:03:21 Francescas-MacBook-Pro.local astropy[14840] WARNING VerifyWarning: Card is too long, comment will be truncated.\n",
      "WARNING: AstropyDeprecationWarning: \"clobber\" was deprecated in version 2.0 and will be removed in a future version. Use argument \"overwrite\" instead. [responsum.utils.fits_file]\n",
      "2020-12-03 18:03:21 Francescas-MacBook-Pro.local astropy[14840] WARNING AstropyDeprecationWarning: \"clobber\" was deprecated in version 2.0 and will be removed in a future version. Use argument \"overwrite\" instead.\n",
      "\n",
      "WARNING UserWarning: The TTE file SynthGRB_0/tte_SynthGRB_0_n1.fits contains duplicate time tags and is thus invalid. Contact the FSSC \n",
      "\n",
      "\n",
      "WARNING UserWarning: The default choice for MATRIX extension failed:KeyError(\"Extension ('MATRIX', 1) not found.\")available: None 'EBOUNDS' 'SPECRESP MATRIX'\n",
      "\n",
      "\n",
      "WARNING RuntimeWarning: Minimum MC energy (5.0) is larger than minimum EBOUNDS energy (4.111590385437012)\n",
      "\n"
     ]
    },
    {
     "data": {
      "application/vnd.jupyter.widget-view+json": {
       "model_id": "0420dc2085b143f0b7f4ba6bbe876de3",
       "version_major": 2,
       "version_minor": 0
      },
      "text/plain": [
       "VBox(children=(HTML(value='Fitting GBM_n1 background : '), HTML(value=''), FloatProgress(value=0.0)))"
      ]
     },
     "metadata": {},
     "output_type": "display_data"
    },
    {
     "data": {
      "application/vnd.jupyter.widget-view+json": {
       "model_id": "8a7aaea09e004225b0aaee5f6afb74dd",
       "version_major": 2,
       "version_minor": 0
      },
      "text/plain": [
       "VBox(children=(HTML(value='Creating plugins : '), HTML(value=''), FloatProgress(value=0.0)))"
      ]
     },
     "metadata": {},
     "output_type": "display_data"
    },
    {
     "name": "stderr",
     "output_type": "stream",
     "text": [
      "\n",
      "WARNING UserWarning: The TTE file SynthGRB_0/tte_SynthGRB_0_na.fits contains duplicate time tags and is thus invalid. Contact the FSSC \n",
      "\n",
      "\n",
      "WARNING UserWarning: The default choice for MATRIX extension failed:KeyError(\"Extension ('MATRIX', 1) not found.\")available: None 'EBOUNDS' 'SPECRESP MATRIX'\n",
      "\n",
      "\n",
      "WARNING RuntimeWarning: Minimum MC energy (5.0) is larger than minimum EBOUNDS energy (3.6785571575164795)\n",
      "\n"
     ]
    },
    {
     "data": {
      "application/vnd.jupyter.widget-view+json": {
       "model_id": "d822d11cf5ce45f9ade698a9dc8c2fc2",
       "version_major": 2,
       "version_minor": 0
      },
      "text/plain": [
       "VBox(children=(HTML(value='Fitting GBM_na background : '), HTML(value=''), FloatProgress(value=0.0)))"
      ]
     },
     "metadata": {},
     "output_type": "display_data"
    },
    {
     "data": {
      "application/vnd.jupyter.widget-view+json": {
       "model_id": "254c1e5bb0c34f4da9449d02073f85fa",
       "version_major": 2,
       "version_minor": 0
      },
      "text/plain": [
       "VBox(children=(HTML(value='Creating plugins : '), HTML(value=''), FloatProgress(value=0.0)))"
      ]
     },
     "metadata": {},
     "output_type": "display_data"
    },
    {
     "name": "stderr",
     "output_type": "stream",
     "text": [
      "\n",
      "WARNING UserWarning: The TTE file SynthGRB_0/tte_SynthGRB_0_n6.fits contains duplicate time tags and is thus invalid. Contact the FSSC \n",
      "\n",
      "\n",
      "WARNING UserWarning: The default choice for MATRIX extension failed:KeyError(\"Extension ('MATRIX', 1) not found.\")available: None 'EBOUNDS' 'SPECRESP MATRIX'\n",
      "\n"
     ]
    },
    {
     "data": {
      "application/vnd.jupyter.widget-view+json": {
       "model_id": "9f625324137248458afd3624b59699b7",
       "version_major": 2,
       "version_minor": 0
      },
      "text/plain": [
       "VBox(children=(HTML(value='Fitting GBM_n6 background : '), HTML(value=''), FloatProgress(value=0.0)))"
      ]
     },
     "metadata": {},
     "output_type": "display_data"
    },
    {
     "data": {
      "application/vnd.jupyter.widget-view+json": {
       "model_id": "1255c713fb07445b9bfae86062d2bf50",
       "version_major": 2,
       "version_minor": 0
      },
      "text/plain": [
       "VBox(children=(HTML(value='Creating plugins : '), HTML(value=''), FloatProgress(value=0.0)))"
      ]
     },
     "metadata": {},
     "output_type": "display_data"
    },
    {
     "name": "stderr",
     "output_type": "stream",
     "text": [
      "\n",
      "WARNING UserWarning: The TTE file SynthGRB_0/tte_SynthGRB_0_b1.fits contains duplicate time tags and is thus invalid. Contact the FSSC \n",
      "\n",
      "\n",
      "WARNING UserWarning: The default choice for MATRIX extension failed:KeyError(\"Extension ('MATRIX', 1) not found.\")available: None 'EBOUNDS' 'SPECRESP MATRIX'\n",
      "\n"
     ]
    },
    {
     "data": {
      "application/vnd.jupyter.widget-view+json": {
       "model_id": "4790584ffde04c67a282fa1357cdde43",
       "version_major": 2,
       "version_minor": 0
      },
      "text/plain": [
       "VBox(children=(HTML(value='Fitting GBM_b1 background : '), HTML(value=''), FloatProgress(value=0.0)))"
      ]
     },
     "metadata": {},
     "output_type": "display_data"
    },
    {
     "data": {
      "application/vnd.jupyter.widget-view+json": {
       "model_id": "dc4f8d545a064a1bbdfa0b5e1a18dad8",
       "version_major": 2,
       "version_minor": 0
      },
      "text/plain": [
       "VBox(children=(HTML(value='Creating plugins : '), HTML(value=''), FloatProgress(value=0.0)))"
      ]
     },
     "metadata": {},
     "output_type": "display_data"
    },
    {
     "data": {
      "image/png": "[encoded data removed]",
      "text/plain": [
       "<Figure size 432x288 with 1 Axes>"
      ]
     },
     "metadata": {
      "needs_background": "light"
     },
     "output_type": "display_data"
    },
    {
     "data": {
      "image/png": "[encoded data removed]",
      "text/plain": [
       "<Figure size 432x288 with 1 Axes>"
      ]
     },
     "metadata": {
      "needs_background": "light"
     },
     "output_type": "display_data"
    },
    {
     "data": {
      "image/png": "[encoded data removed]",
      "text/plain": [
       "<Figure size 432x288 with 1 Axes>"
      ]
     },
     "metadata": {
      "needs_background": "light"
     },
     "output_type": "display_data"
    },
    {
     "data": {
      "image/png": "[encoded data removed]",
      "text/plain": [
       "<Figure size 432x288 with 1 Axes>"
      ]
     },
     "metadata": {
      "needs_background": "light"
     },
     "output_type": "display_data"
    }
   ],
   "source": [
    "analysis_builder = AnalysisBuilder(\"data/grb_pop_survey.h5\", use_bb=True)"
   ]
  },
  {
   "cell_type": "markdown",
   "metadata": {},
   "source": [
    "## Debug"
   ]
  },
  {
   "cell_type": "code",
   "execution_count": 4,
   "metadata": {
    "ExecuteTime": {
     "end_time": "2020-12-03T17:03:51.051700Z",
     "start_time": "2020-12-03T17:03:51.049216Z"
    }
   },
   "outputs": [],
   "source": [
    "import numpy as np\n",
    "from matplotlib import pyplot as plt\n",
    "from threeML import *"
   ]
  },
  {
   "cell_type": "code",
   "execution_count": 23,
   "metadata": {
    "ExecuteTime": {
     "end_time": "2020-12-03T17:20:43.624665Z",
     "start_time": "2020-12-03T17:20:43.620262Z"
    }
   },
   "outputs": [],
   "source": [
    "def get_plugins(grb_name, dets, interval):\n",
    "    plugin_list = []\n",
    "    for det in dets:\n",
    "        pha_file = os.path.join(grb_name, det + \".pha\")\n",
    "        rsp_file = os.path.join(grb_name, det + \".rsp\")\n",
    "        bak_file = os.path.join(grb_name, det + \"_bak.pha\")\n",
    "        plugin = OGIPLike(det, pha_file, bak_file, rsp_file, spectrum_number=interval)\n",
    "        plugin_list.append(plugin)\n",
    "    \n",
    "    return DataList(*plugin_list)"
   ]
  },
  {
   "cell_type": "code",
   "execution_count": 61,
   "metadata": {
    "ExecuteTime": {
     "end_time": "2020-12-03T17:51:02.124466Z",
     "start_time": "2020-12-03T17:51:01.711355Z"
    }
   },
   "outputs": [
    {
     "name": "stderr",
     "output_type": "stream",
     "text": [
      "\n",
      "WARNING UserWarning: The default choice for MATRIX extension failed:KeyError(\"Extension ('MATRIX', 1) not found.\")available: None 'EBOUNDS' 'SPECRESP MATRIX' 'SPECRESP MATRIX' 'SPECRESP MATRIX' 'SPECRESP MATRIX' 'SPECRESP MATRIX' 'SPECRESP MATRIX'\n",
      "\n",
      "\n",
      "WARNING RuntimeWarning: Minimum MC energy (5.0) is larger than minimum EBOUNDS energy (4.111590385437012)\n",
      "\n",
      "\n",
      "WARNING RuntimeWarning: Minimum MC energy (5.0) is larger than minimum EBOUNDS energy (3.6785571575164795)\n",
      "\n"
     ]
    },
    {
     "name": "stdout",
     "output_type": "stream",
     "text": [
      "Auto-probed noise models:\n",
      "- observation: poisson\n",
      "- background: gaussian\n",
      "Auto-probed noise models:\n",
      "- observation: poisson\n",
      "- background: gaussian\n",
      "Auto-probed noise models:\n",
      "- observation: poisson\n",
      "- background: gaussian\n",
      "Auto-probed noise models:\n",
      "- observation: poisson\n",
      "- background: gaussian\n"
     ]
    }
   ],
   "source": [
    "grb_name = analysis_builder._survey[\"SynthGRB_0\"].grb.name\n",
    "dets = analysis_builder._processors[0]._lc_names\n",
    "\n",
    "datalist = get_plugins(grb_name, dets, 3)"
   ]
  },
  {
   "cell_type": "code",
   "execution_count": 62,
   "metadata": {
    "ExecuteTime": {
     "end_time": "2020-12-03T17:51:02.434757Z",
     "start_time": "2020-12-03T17:51:02.428618Z"
    }
   },
   "outputs": [],
   "source": [
    "spec = Cutoff_powerlaw()\n",
    "spec.K.prior = Log_uniform_prior(lower_bound=1e-3, upper_bound=100)\n",
    "spec.index.set_uninformative_prior(Uniform_prior)\n",
    "spec.xc.prior = Log_uniform_prior(lower_bound=1, upper_bound=1e3)\n",
    "spec.pivot=100\n",
    "ps = PointSource('grb',0,0, spectral_shape=spec)\n",
    "model = Model(ps)"
   ]
  },
  {
   "cell_type": "code",
   "execution_count": 63,
   "metadata": {
    "ExecuteTime": {
     "end_time": "2020-12-03T17:51:02.936341Z",
     "start_time": "2020-12-03T17:51:02.934576Z"
    }
   },
   "outputs": [],
   "source": [
    "#bayes = BayesianAnalysis(model, datalist)\n",
    "#bayes.set_sampler(\"multinest\")"
   ]
  },
  {
   "cell_type": "code",
   "execution_count": 64,
   "metadata": {
    "ExecuteTime": {
     "end_time": "2020-12-03T17:51:03.668747Z",
     "start_time": "2020-12-03T17:51:03.453861Z"
    }
   },
   "outputs": [
    {
     "name": "stdout",
     "output_type": "stream",
     "text": [
      "Best fit values:\n",
      "\n"
     ]
    },
    {
     "data": {
      "text/html": [
       "<div>\n",
       "<style scoped>\n",
       "    .dataframe tbody tr th:only-of-type {\n",
       "        vertical-align: middle;\n",
       "    }\n",
       "\n",
       "    .dataframe tbody tr th {\n",
       "        vertical-align: top;\n",
       "    }\n",
       "\n",
       "    .dataframe thead th {\n",
       "        text-align: right;\n",
       "    }\n",
       "</style>\n",
       "<table border=\"1\" class=\"dataframe\">\n",
       "  <thead>\n",
       "    <tr style=\"text-align: right;\">\n",
       "      <th></th>\n",
       "      <th>result</th>\n",
       "      <th>unit</th>\n",
       "    </tr>\n",
       "    <tr>\n",
       "      <th>parameter</th>\n",
       "      <th></th>\n",
       "      <th></th>\n",
       "    </tr>\n",
       "  </thead>\n",
       "  <tbody>\n",
       "    <tr>\n",
       "      <th>grb.spectrum.main.Cutoff_powerlaw.K</th>\n",
       "      <td>(1.3 -0.5 +0.8) x 10</td>\n",
       "      <td>1 / (cm2 keV s)</td>\n",
       "    </tr>\n",
       "    <tr>\n",
       "      <th>grb.spectrum.main.Cutoff_powerlaw.index</th>\n",
       "      <td>-1.28 +/- 0.17</td>\n",
       "      <td></td>\n",
       "    </tr>\n",
       "    <tr>\n",
       "      <th>grb.spectrum.main.Cutoff_powerlaw.xc</th>\n",
       "      <td>(5.1 -0.9 +1.1) x 10</td>\n",
       "      <td>keV</td>\n",
       "    </tr>\n",
       "  </tbody>\n",
       "</table>\n",
       "</div>"
      ],
      "text/plain": [
       "                                                       result             unit\n",
       "parameter                                                                     \n",
       "grb.spectrum.main.Cutoff_powerlaw.K      (1.3 -0.5 +0.8) x 10  1 / (cm2 keV s)\n",
       "grb.spectrum.main.Cutoff_powerlaw.index        -1.28 +/- 0.17                 \n",
       "grb.spectrum.main.Cutoff_powerlaw.xc     (5.1 -0.9 +1.1) x 10              keV"
      ]
     },
     "metadata": {},
     "output_type": "display_data"
    },
    {
     "name": "stdout",
     "output_type": "stream",
     "text": [
      "\n",
      "Correlation matrix:\n",
      "\n"
     ]
    },
    {
     "data": {
      "text/html": [
       "<table id=\"table5116652560\">\n",
       "<tr><td>1.00</td><td>-0.99</td><td>0.88</td></tr>\n",
       "<tr><td>-0.99</td><td>1.00</td><td>-0.93</td></tr>\n",
       "<tr><td>0.88</td><td>-0.93</td><td>1.00</td></tr>\n",
       "</table>"
      ],
      "text/plain": [
       " 1.00 -0.99  0.88\n",
       "-0.99  1.00 -0.93\n",
       " 0.88 -0.93  1.00"
      ]
     },
     "metadata": {},
     "output_type": "display_data"
    },
    {
     "name": "stdout",
     "output_type": "stream",
     "text": [
      "\n",
      "Values of -log(likelihood) at the minimum:\n",
      "\n"
     ]
    },
    {
     "data": {
      "text/html": [
       "<div>\n",
       "<style scoped>\n",
       "    .dataframe tbody tr th:only-of-type {\n",
       "        vertical-align: middle;\n",
       "    }\n",
       "\n",
       "    .dataframe tbody tr th {\n",
       "        vertical-align: top;\n",
       "    }\n",
       "\n",
       "    .dataframe thead th {\n",
       "        text-align: right;\n",
       "    }\n",
       "</style>\n",
       "<table border=\"1\" class=\"dataframe\">\n",
       "  <thead>\n",
       "    <tr style=\"text-align: right;\">\n",
       "      <th></th>\n",
       "      <th>-log(likelihood)</th>\n",
       "    </tr>\n",
       "  </thead>\n",
       "  <tbody>\n",
       "    <tr>\n",
       "      <th>b1</th>\n",
       "      <td>141.888482</td>\n",
       "    </tr>\n",
       "    <tr>\n",
       "      <th>n1</th>\n",
       "      <td>230.279533</td>\n",
       "    </tr>\n",
       "    <tr>\n",
       "      <th>n6</th>\n",
       "      <td>197.660151</td>\n",
       "    </tr>\n",
       "    <tr>\n",
       "      <th>na</th>\n",
       "      <td>253.428780</td>\n",
       "    </tr>\n",
       "    <tr>\n",
       "      <th>total</th>\n",
       "      <td>823.256945</td>\n",
       "    </tr>\n",
       "  </tbody>\n",
       "</table>\n",
       "</div>"
      ],
      "text/plain": [
       "       -log(likelihood)\n",
       "b1           141.888482\n",
       "n1           230.279533\n",
       "n6           197.660151\n",
       "na           253.428780\n",
       "total        823.256945"
      ]
     },
     "metadata": {},
     "output_type": "display_data"
    },
    {
     "name": "stdout",
     "output_type": "stream",
     "text": [
      "\n",
      "Values of statistical measures:\n",
      "\n"
     ]
    },
    {
     "data": {
      "text/html": [
       "<div>\n",
       "<style scoped>\n",
       "    .dataframe tbody tr th:only-of-type {\n",
       "        vertical-align: middle;\n",
       "    }\n",
       "\n",
       "    .dataframe tbody tr th {\n",
       "        vertical-align: top;\n",
       "    }\n",
       "\n",
       "    .dataframe thead th {\n",
       "        text-align: right;\n",
       "    }\n",
       "</style>\n",
       "<table border=\"1\" class=\"dataframe\">\n",
       "  <thead>\n",
       "    <tr style=\"text-align: right;\">\n",
       "      <th></th>\n",
       "      <th>statistical measures</th>\n",
       "    </tr>\n",
       "  </thead>\n",
       "  <tbody>\n",
       "    <tr>\n",
       "      <th>AIC</th>\n",
       "      <td>1652.561133</td>\n",
       "    </tr>\n",
       "    <tr>\n",
       "      <th>BIC</th>\n",
       "      <td>1665.228863</td>\n",
       "    </tr>\n",
       "  </tbody>\n",
       "</table>\n",
       "</div>"
      ],
      "text/plain": [
       "     statistical measures\n",
       "AIC           1652.561133\n",
       "BIC           1665.228863"
      ]
     },
     "metadata": {},
     "output_type": "display_data"
    }
   ],
   "source": [
    "jl = JointLikelihood(model, datalist)\n",
    "\n",
    "best_fit_parameters, likelihood_values = jl.fit()"
   ]
  },
  {
   "cell_type": "code",
   "execution_count": 65,
   "metadata": {
    "ExecuteTime": {
     "end_time": "2020-12-03T17:51:05.334593Z",
     "start_time": "2020-12-03T17:51:04.085416Z"
    }
   },
   "outputs": [
    {
     "ename": "NotEnoughData",
     "evalue": "Vector total is -92.56218841367021, cannot rebin at 1e-99 per bin",
     "output_type": "error",
     "traceback": [
      "\u001b[0;31m---------------------------------------------------------------------------\u001b[0m",
      "\u001b[0;31mNotEnoughData\u001b[0m                             Traceback (most recent call last)",
      "\u001b[0;32m<ipython-input-65-9ed6f552dfad>\u001b[0m in \u001b[0;36m<module>\u001b[0;34m\u001b[0m\n\u001b[0;32m----> 1\u001b[0;31m \u001b[0mfig\u001b[0m \u001b[0;34m=\u001b[0m \u001b[0mdisplay_spectrum_model_counts\u001b[0m\u001b[0;34m(\u001b[0m\u001b[0mjl\u001b[0m\u001b[0;34m,\u001b[0m \u001b[0mstep\u001b[0m\u001b[0;34m=\u001b[0m\u001b[0;32mFalse\u001b[0m\u001b[0;34m,\u001b[0m \u001b[0mfigsize\u001b[0m\u001b[0;34m=\u001b[0m\u001b[0;34m(\u001b[0m\u001b[0;36m20\u001b[0m\u001b[0;34m,\u001b[0m \u001b[0;36m10\u001b[0m\u001b[0;34m)\u001b[0m\u001b[0;34m)\u001b[0m\u001b[0;34m;\u001b[0m\u001b[0;34m\u001b[0m\u001b[0;34m\u001b[0m\u001b[0m\n\u001b[0m",
      "\u001b[0;32m~/.virtualenvs/grb/lib/python3.8/site-packages/threeML/io/plotting/post_process_data_plots.py\u001b[0m in \u001b[0;36mdisplay_spectrum_model_counts\u001b[0;34m(analysis, data, **kwargs)\u001b[0m\n\u001b[1;32m    221\u001b[0m         ]  # type: threeML.plugins.SpectrumLike.SpectrumLike\n\u001b[1;32m    222\u001b[0m \u001b[0;34m\u001b[0m\u001b[0m\n\u001b[0;32m--> 223\u001b[0;31m         data.display_model(\n\u001b[0m\u001b[1;32m    224\u001b[0m             \u001b[0mdata_color\u001b[0m\u001b[0;34m=\u001b[0m\u001b[0mdata_color\u001b[0m\u001b[0;34m,\u001b[0m\u001b[0;34m\u001b[0m\u001b[0;34m\u001b[0m\u001b[0m\n\u001b[1;32m    225\u001b[0m             \u001b[0mmodel_color\u001b[0m\u001b[0;34m=\u001b[0m\u001b[0mmodel_color\u001b[0m\u001b[0;34m,\u001b[0m\u001b[0;34m\u001b[0m\u001b[0;34m\u001b[0m\u001b[0m\n",
      "\u001b[0;32m~/.virtualenvs/grb/lib/python3.8/site-packages/threeML/plugins/SpectrumLike.py\u001b[0m in \u001b[0;36mdisplay_model\u001b[0;34m(self, data_color, model_color, step, show_data, show_residuals, ratio_residuals, show_legend, min_rate, model_label, model_kwargs, data_kwargs, **kwargs)\u001b[0m\n\u001b[1;32m   2918\u001b[0m         \u001b[0;31m# compute the values for the plotting\u001b[0m\u001b[0;34m\u001b[0m\u001b[0;34m\u001b[0m\u001b[0;34m\u001b[0m\u001b[0m\n\u001b[1;32m   2919\u001b[0m \u001b[0;34m\u001b[0m\u001b[0m\n\u001b[0;32m-> 2920\u001b[0;31m         \u001b[0mrebinned_quantities\u001b[0m \u001b[0;34m=\u001b[0m \u001b[0mself\u001b[0m\u001b[0;34m.\u001b[0m\u001b[0m_construct_counts_arrays\u001b[0m\u001b[0;34m(\u001b[0m\u001b[0mmin_rate\u001b[0m\u001b[0;34m,\u001b[0m \u001b[0mratio_residuals\u001b[0m\u001b[0;34m)\u001b[0m\u001b[0;34m\u001b[0m\u001b[0;34m\u001b[0m\u001b[0m\n\u001b[0m\u001b[1;32m   2921\u001b[0m \u001b[0;34m\u001b[0m\u001b[0m\n\u001b[1;32m   2922\u001b[0m         weighted_data = old_div(\n",
      "\u001b[0;32m~/.virtualenvs/grb/lib/python3.8/site-packages/threeML/plugins/SpectrumLike.py\u001b[0m in \u001b[0;36m_construct_counts_arrays\u001b[0;34m(self, min_rate, ratio_residuals)\u001b[0m\n\u001b[1;32m   2641\u001b[0m         \u001b[0;32mif\u001b[0m \u001b[0;34m(\u001b[0m\u001b[0mmin_rate\u001b[0m \u001b[0;32mis\u001b[0m \u001b[0;32mnot\u001b[0m \u001b[0mNO_REBIN\u001b[0m\u001b[0;34m)\u001b[0m \u001b[0;32mor\u001b[0m \u001b[0;34m(\u001b[0m\u001b[0mself\u001b[0m\u001b[0;34m.\u001b[0m\u001b[0m_rebinner\u001b[0m \u001b[0;32mis\u001b[0m \u001b[0;32mNone\u001b[0m\u001b[0;34m)\u001b[0m\u001b[0;34m:\u001b[0m\u001b[0;34m\u001b[0m\u001b[0;34m\u001b[0m\u001b[0m\n\u001b[1;32m   2642\u001b[0m \u001b[0;34m\u001b[0m\u001b[0m\n\u001b[0;32m-> 2643\u001b[0;31m             \u001b[0mthis_rebinner\u001b[0m \u001b[0;34m=\u001b[0m \u001b[0mRebinner\u001b[0m\u001b[0;34m(\u001b[0m\u001b[0msrc_rate\u001b[0m\u001b[0;34m,\u001b[0m \u001b[0mmin_rate\u001b[0m\u001b[0;34m,\u001b[0m \u001b[0mself\u001b[0m\u001b[0;34m.\u001b[0m\u001b[0m_mask\u001b[0m\u001b[0;34m)\u001b[0m\u001b[0;34m\u001b[0m\u001b[0;34m\u001b[0m\u001b[0m\n\u001b[0m\u001b[1;32m   2644\u001b[0m \u001b[0;34m\u001b[0m\u001b[0m\n\u001b[1;32m   2645\u001b[0m         \u001b[0;32melse\u001b[0m\u001b[0;34m:\u001b[0m\u001b[0;34m\u001b[0m\u001b[0;34m\u001b[0m\u001b[0m\n",
      "\u001b[0;32m~/.virtualenvs/grb/lib/python3.8/site-packages/threeML/utils/binner.py\u001b[0m in \u001b[0;36m__init__\u001b[0;34m(self, vector_to_rebin_on, min_value_per_bin, mask)\u001b[0m\n\u001b[1;32m     26\u001b[0m \u001b[0;34m\u001b[0m\u001b[0m\n\u001b[1;32m     27\u001b[0m         \u001b[0;32mif\u001b[0m \u001b[0mtotal\u001b[0m \u001b[0;34m<\u001b[0m \u001b[0mmin_value_per_bin\u001b[0m\u001b[0;34m:\u001b[0m\u001b[0;34m\u001b[0m\u001b[0;34m\u001b[0m\u001b[0m\n\u001b[0;32m---> 28\u001b[0;31m             raise NotEnoughData(\n\u001b[0m\u001b[1;32m     29\u001b[0m                 \u001b[0;34m\"Vector total is %s, cannot rebin at %s per bin\"\u001b[0m\u001b[0;34m\u001b[0m\u001b[0;34m\u001b[0m\u001b[0m\n\u001b[1;32m     30\u001b[0m                 \u001b[0;34m%\u001b[0m \u001b[0;34m(\u001b[0m\u001b[0mtotal\u001b[0m\u001b[0;34m,\u001b[0m \u001b[0mmin_value_per_bin\u001b[0m\u001b[0;34m)\u001b[0m\u001b[0;34m\u001b[0m\u001b[0;34m\u001b[0m\u001b[0m\n",
      "\u001b[0;31mNotEnoughData\u001b[0m: Vector total is -92.56218841367021, cannot rebin at 1e-99 per bin"
     ]
    },
    {
     "data": {
      "image/png": "[encoded data removed]",
      "text/plain": [
       "<Figure size 1440x720 with 2 Axes>"
      ]
     },
     "metadata": {
      "needs_background": "light"
     },
     "output_type": "display_data"
    }
   ],
   "source": [
    "fig = display_spectrum_model_counts(jl, step=False, figsize=(20, 10));"
   ]
  },
  {
   "cell_type": "code",
   "execution_count": null,
   "metadata": {},
   "outputs": [],
   "source": []
  }
 ],
 "metadata": {
  "kernelspec": {
   "display_name": "grb",
   "language": "python",
   "name": "grb"
  },
  "language_info": {
   "codemirror_mode": {
    "name": "ipython",
    "version": 3
   },
   "file_extension": ".py",
   "mimetype": "text/x-python",
   "name": "python",
   "nbconvert_exporter": "python",
   "pygments_lexer": "ipython3",
   "version": "3.8.5"
  }
 },
 "nbformat": 4,
 "nbformat_minor": 4
}
